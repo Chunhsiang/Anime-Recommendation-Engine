{
 "cells": [
  {
   "cell_type": "code",
   "execution_count": 1,
   "metadata": {
    "collapsed": true
   },
   "outputs": [],
   "source": [
    "import pandas as pd\n",
    "import numpy as np"
   ]
  },
  {
   "cell_type": "code",
   "execution_count": 2,
   "metadata": {
    "collapsed": true
   },
   "outputs": [],
   "source": [
    "features = pd.read_csv('example_data/prep_data.csv')"
   ]
  },
  {
   "cell_type": "code",
   "execution_count": 3,
   "metadata": {
    "collapsed": true
   },
   "outputs": [],
   "source": [
    "train_small = pd.read_csv('example_data/train_small.csv')"
   ]
  },
  {
   "cell_type": "code",
   "execution_count": 4,
   "metadata": {
    "collapsed": true
   },
   "outputs": [],
   "source": [
    "test_small = pd.read_csv('example_data/test_small.csv')"
   ]
  },
  {
   "cell_type": "code",
   "execution_count": 5,
   "metadata": {
    "collapsed": true
   },
   "outputs": [],
   "source": [
    "full_training = pd.merge(train_small, features, on= 'anime_id')"
   ]
  },
  {
   "cell_type": "code",
   "execution_count": 6,
   "metadata": {
    "collapsed": true
   },
   "outputs": [],
   "source": [
    "full_training.drop('Unnamed: 0', inplace=True, axis =1)"
   ]
  },
  {
   "cell_type": "code",
   "execution_count": 7,
   "metadata": {
    "collapsed": true
   },
   "outputs": [],
   "source": [
    "full_test = pd.merge(test_small, features, on='anime_id')\n"
   ]
  },
  {
   "cell_type": "code",
   "execution_count": 8,
   "metadata": {
    "collapsed": true
   },
   "outputs": [],
   "source": [
    "full_test.drop('Unnamed: 0', inplace=True, axis =1)"
   ]
  },
  {
   "cell_type": "code",
   "execution_count": 18,
   "metadata": {
    "collapsed": true
   },
   "outputs": [],
   "source": [
    "full_training.to_csv('example_data/full_training.csv')"
   ]
  },
  {
   "cell_type": "code",
   "execution_count": 19,
   "metadata": {
    "collapsed": true
   },
   "outputs": [],
   "source": [
    "full_test.to_csv('example_data/full_test.csv')"
   ]
  },
  {
   "cell_type": "code",
   "execution_count": 9,
   "metadata": {
    "collapsed": true
   },
   "outputs": [],
   "source": [
    "full_training.sort_values('user_id', inplace=True)\n",
    "full_test.sort_values('user_id', inplace=True)"
   ]
  },
  {
   "cell_type": "code",
   "execution_count": 10,
   "metadata": {
    "collapsed": true
   },
   "outputs": [],
   "source": [
    "full_training.to_csv('example_data/full_training.csv')\n",
    "full_test.to_csv('example_data/full_test.csv')"
   ]
  },
  {
   "cell_type": "code",
   "execution_count": 11,
   "metadata": {},
   "outputs": [
    {
     "data": {
      "text/html": [
       "<div>\n",
       "<style scoped>\n",
       "    .dataframe tbody tr th:only-of-type {\n",
       "        vertical-align: middle;\n",
       "    }\n",
       "\n",
       "    .dataframe tbody tr th {\n",
       "        vertical-align: top;\n",
       "    }\n",
       "\n",
       "    .dataframe thead th {\n",
       "        text-align: right;\n",
       "    }\n",
       "</style>\n",
       "<table border=\"1\" class=\"dataframe\">\n",
       "  <thead>\n",
       "    <tr style=\"text-align: right;\">\n",
       "      <th></th>\n",
       "      <th>user_id</th>\n",
       "      <th>anime_id</th>\n",
       "      <th>rating</th>\n",
       "      <th>episodes</th>\n",
       "      <th>popularity</th>\n",
       "      <th>duration_min</th>\n",
       "    </tr>\n",
       "  </thead>\n",
       "  <tbody>\n",
       "    <tr>\n",
       "      <th>24990</th>\n",
       "      <td>9</td>\n",
       "      <td>603</td>\n",
       "      <td>9</td>\n",
       "      <td>49</td>\n",
       "      <td>2470</td>\n",
       "      <td>24.0</td>\n",
       "    </tr>\n",
       "    <tr>\n",
       "      <th>8406</th>\n",
       "      <td>9</td>\n",
       "      <td>813</td>\n",
       "      <td>10</td>\n",
       "      <td>291</td>\n",
       "      <td>70</td>\n",
       "      <td>24.0</td>\n",
       "    </tr>\n",
       "    <tr>\n",
       "      <th>2467</th>\n",
       "      <td>9</td>\n",
       "      <td>1535</td>\n",
       "      <td>10</td>\n",
       "      <td>37</td>\n",
       "      <td>1</td>\n",
       "      <td>23.0</td>\n",
       "    </tr>\n",
       "    <tr>\n",
       "      <th>11936</th>\n",
       "      <td>9</td>\n",
       "      <td>3455</td>\n",
       "      <td>0</td>\n",
       "      <td>26</td>\n",
       "      <td>186</td>\n",
       "      <td>24.0</td>\n",
       "    </tr>\n",
       "    <tr>\n",
       "      <th>17117</th>\n",
       "      <td>9</td>\n",
       "      <td>5460</td>\n",
       "      <td>0</td>\n",
       "      <td>1</td>\n",
       "      <td>2137</td>\n",
       "      <td>111.0</td>\n",
       "    </tr>\n",
       "  </tbody>\n",
       "</table>\n",
       "</div>"
      ],
      "text/plain": [
       "       user_id  anime_id  rating  episodes  popularity  duration_min\n",
       "24990        9       603       9        49        2470          24.0\n",
       "8406         9       813      10       291          70          24.0\n",
       "2467         9      1535      10        37           1          23.0\n",
       "11936        9      3455       0        26         186          24.0\n",
       "17117        9      5460       0         1        2137         111.0"
      ]
     },
     "execution_count": 11,
     "metadata": {},
     "output_type": "execute_result"
    }
   ],
   "source": [
    "full_training.head()"
   ]
  },
  {
   "cell_type": "code",
   "execution_count": 12,
   "metadata": {
    "collapsed": true
   },
   "outputs": [],
   "source": [
    "def get_data(df):\n",
    "\t#f = open(file_loc, 'r')\n",
    "\tdata = []\n",
    "\tfor line in df.index.values:\n",
    "\t\tnew_arr = []\n",
    "\t\t\n",
    "\t\tscore = df.loc[line, 'rating']\n",
    "\t\tq_id = df.loc[line, 'user_id']\n",
    "\t\tnew_arr.append(int(score))\n",
    "\t\tnew_arr.append(int(q_id))\n",
    "\t\tarr = list(df.loc[line, ['episodes', 'popularity', 'duration_min']])\n",
    "\t\t#print(\"subseted arr is:\", arr)\n",
    "\t\tfor el in arr:\n",
    "\t\t\tnew_arr.append(float(el))\n",
    "\t\t#print(\" \\n New arr is:\",new_arr)\n",
    "\t\tdata.append(new_arr)\n",
    "\t#f.close()\n",
    "\tprint(np.array(data))\n",
    "\treturn np.array(data)\t"
   ]
  },
  {
   "cell_type": "code",
   "execution_count": 13,
   "metadata": {},
   "outputs": [
    {
     "name": "stdout",
     "output_type": "stream",
     "text": [
      "[[9.00000e+00 9.00000e+00 4.90000e+01 2.47000e+03 2.40000e+01]\n",
      " [1.00000e+01 9.00000e+00 2.91000e+02 7.00000e+01 2.40000e+01]\n",
      " [1.00000e+01 9.00000e+00 3.70000e+01 1.00000e+00 2.30000e+01]\n",
      " ...\n",
      " [1.00000e+01 2.82985e+05 1.00000e+00 1.71800e+03 1.04000e+02]\n",
      " [0.00000e+00 2.82985e+05 1.30000e+01 2.24000e+02 2.30000e+01]\n",
      " [0.00000e+00 2.82985e+05 1.00000e+00 2.93300e+03 2.80000e+01]]\n"
     ]
    }
   ],
   "source": [
    "training_data = get_data(full_training)"
   ]
  },
  {
   "cell_type": "code",
   "execution_count": 41,
   "metadata": {
    "collapsed": true
   },
   "outputs": [],
   "source": [
    "#list(full_training.loc[24990, ['episodes', 'popularity', 'duration_min']])"
   ]
  },
  {
   "cell_type": "code",
   "execution_count": 42,
   "metadata": {
    "collapsed": true
   },
   "outputs": [],
   "source": [
    "#full_training.index.values"
   ]
  },
  {
   "cell_type": "code",
   "execution_count": 15,
   "metadata": {
    "collapsed": true
   },
   "outputs": [],
   "source": [
    "from lambdamart import LambdaMART"
   ]
  },
  {
   "cell_type": "code",
   "execution_count": 16,
   "metadata": {
    "collapsed": true
   },
   "outputs": [],
   "source": [
    "model = LambdaMART(\n",
    "\ttraining_data=training_data, \n",
    "\tnumber_of_trees=2, \n",
    "\tlearning_rate=0.1)"
   ]
  },
  {
   "cell_type": "code",
   "execution_count": 2,
   "metadata": {},
   "outputs": [],
   "source": [
    "#model.fit()"
   ]
  },
  {
   "cell_type": "code",
   "execution_count": 48,
   "metadata": {},
   "outputs": [
    {
     "data": {
      "text/plain": [
       "4615"
      ]
     },
     "execution_count": 48,
     "metadata": {},
     "output_type": "execute_result"
    }
   ],
   "source": [
    "full_training['user_id'].nunique()"
   ]
  },
  {
   "cell_type": "code",
   "execution_count": 1,
   "metadata": {},
   "outputs": [],
   "source": [
    "#average_ndcg, predicted_scores = model.validate(test_data,5)"
   ]
  },
  {
   "cell_type": "code",
   "execution_count": 50,
   "metadata": {},
   "outputs": [
    {
     "data": {
      "text/plain": [
       "0.7269762641801752"
      ]
     },
     "execution_count": 50,
     "metadata": {},
     "output_type": "execute_result"
    }
   ],
   "source": [
    "average_ndcg"
   ]
  },
  {
   "cell_type": "code",
   "execution_count": 51,
   "metadata": {
    "collapsed": true
   },
   "outputs": [],
   "source": [
    "predicted_scores = model.predict(test_data[:,1:])"
   ]
  },
  {
   "cell_type": "code",
   "execution_count": 53,
   "metadata": {},
   "outputs": [
    {
     "data": {
      "text/plain": [
       "(26896,)"
      ]
     },
     "execution_count": 53,
     "metadata": {},
     "output_type": "execute_result"
    }
   ],
   "source": [
    "predicted_scores.shape"
   ]
  },
  {
   "cell_type": "code",
   "execution_count": 54,
   "metadata": {},
   "outputs": [
    {
     "data": {
      "text/plain": [
       "(26896, 5)"
      ]
     },
     "execution_count": 54,
     "metadata": {},
     "output_type": "execute_result"
    }
   ],
   "source": [
    "test_data.shape"
   ]
  },
  {
   "cell_type": "code",
   "execution_count": 23,
   "metadata": {},
   "outputs": [
    {
     "data": {
      "text/html": [
       "<div>\n",
       "<style scoped>\n",
       "    .dataframe tbody tr th:only-of-type {\n",
       "        vertical-align: middle;\n",
       "    }\n",
       "\n",
       "    .dataframe tbody tr th {\n",
       "        vertical-align: top;\n",
       "    }\n",
       "\n",
       "    .dataframe thead th {\n",
       "        text-align: right;\n",
       "    }\n",
       "</style>\n",
       "<table border=\"1\" class=\"dataframe\">\n",
       "  <thead>\n",
       "    <tr style=\"text-align: right;\">\n",
       "      <th></th>\n",
       "      <th>index</th>\n",
       "      <th>user_id</th>\n",
       "      <th>anime_id</th>\n",
       "      <th>rating</th>\n",
       "      <th>episodes</th>\n",
       "      <th>popularity</th>\n",
       "      <th>duration_min</th>\n",
       "    </tr>\n",
       "  </thead>\n",
       "  <tbody>\n",
       "    <tr>\n",
       "      <th>26669</th>\n",
       "      <td>11218</td>\n",
       "      <td>280842</td>\n",
       "      <td>122</td>\n",
       "      <td>9</td>\n",
       "      <td>52</td>\n",
       "      <td>1158</td>\n",
       "      <td>24.0</td>\n",
       "    </tr>\n",
       "    <tr>\n",
       "      <th>26670</th>\n",
       "      <td>3933</td>\n",
       "      <td>280842</td>\n",
       "      <td>853</td>\n",
       "      <td>0</td>\n",
       "      <td>26</td>\n",
       "      <td>69</td>\n",
       "      <td>23.0</td>\n",
       "    </tr>\n",
       "    <tr>\n",
       "      <th>26671</th>\n",
       "      <td>1409</td>\n",
       "      <td>280842</td>\n",
       "      <td>431</td>\n",
       "      <td>0</td>\n",
       "      <td>1</td>\n",
       "      <td>89</td>\n",
       "      <td>117.0</td>\n",
       "    </tr>\n",
       "    <tr>\n",
       "      <th>26672</th>\n",
       "      <td>1823</td>\n",
       "      <td>280842</td>\n",
       "      <td>269</td>\n",
       "      <td>0</td>\n",
       "      <td>366</td>\n",
       "      <td>18</td>\n",
       "      <td>24.0</td>\n",
       "    </tr>\n",
       "    <tr>\n",
       "      <th>26673</th>\n",
       "      <td>1584</td>\n",
       "      <td>280842</td>\n",
       "      <td>5262</td>\n",
       "      <td>0</td>\n",
       "      <td>51</td>\n",
       "      <td>1173</td>\n",
       "      <td>24.0</td>\n",
       "    </tr>\n",
       "    <tr>\n",
       "      <th>26674</th>\n",
       "      <td>9379</td>\n",
       "      <td>280842</td>\n",
       "      <td>48</td>\n",
       "      <td>0</td>\n",
       "      <td>26</td>\n",
       "      <td>650</td>\n",
       "      <td>24.0</td>\n",
       "    </tr>\n",
       "    <tr>\n",
       "      <th>26675</th>\n",
       "      <td>7899</td>\n",
       "      <td>280842</td>\n",
       "      <td>4722</td>\n",
       "      <td>0</td>\n",
       "      <td>25</td>\n",
       "      <td>488</td>\n",
       "      <td>24.0</td>\n",
       "    </tr>\n",
       "  </tbody>\n",
       "</table>\n",
       "</div>"
      ],
      "text/plain": [
       "       index  user_id  anime_id  rating  episodes  popularity  duration_min\n",
       "26669  11218   280842       122       9        52        1158          24.0\n",
       "26670   3933   280842       853       0        26          69          23.0\n",
       "26671   1409   280842       431       0         1          89         117.0\n",
       "26672   1823   280842       269       0       366          18          24.0\n",
       "26673   1584   280842      5262       0        51        1173          24.0\n",
       "26674   9379   280842        48       0        26         650          24.0\n",
       "26675   7899   280842      4722       0        25         488          24.0"
      ]
     },
     "execution_count": 23,
     "metadata": {},
     "output_type": "execute_result"
    }
   ],
   "source": [
    "full_test[full_test['user_id'] == 280842]"
   ]
  },
  {
   "cell_type": "code",
   "execution_count": 20,
   "metadata": {
    "collapsed": true
   },
   "outputs": [],
   "source": [
    "full_test.reset_index(inplace=True)"
   ]
  },
  {
   "cell_type": "code",
   "execution_count": 11,
   "metadata": {
    "collapsed": true
   },
   "outputs": [],
   "source": [
    "test_data2 = full_test[['rating','anime_id','user_id','episodes', 'popularity', 'duration_min' ]]\n",
    "train_data2 = full_training[['rating','anime_id','user_id','episodes', 'popularity', 'duration_min']]"
   ]
  },
  {
   "cell_type": "code",
   "execution_count": 12,
   "metadata": {},
   "outputs": [
    {
     "data": {
      "text/html": [
       "<div>\n",
       "<style scoped>\n",
       "    .dataframe tbody tr th:only-of-type {\n",
       "        vertical-align: middle;\n",
       "    }\n",
       "\n",
       "    .dataframe tbody tr th {\n",
       "        vertical-align: top;\n",
       "    }\n",
       "\n",
       "    .dataframe thead th {\n",
       "        text-align: right;\n",
       "    }\n",
       "</style>\n",
       "<table border=\"1\" class=\"dataframe\">\n",
       "  <thead>\n",
       "    <tr style=\"text-align: right;\">\n",
       "      <th></th>\n",
       "      <th>rating</th>\n",
       "      <th>anime_id</th>\n",
       "      <th>user_id</th>\n",
       "      <th>episodes</th>\n",
       "      <th>popularity</th>\n",
       "      <th>duration_min</th>\n",
       "    </tr>\n",
       "  </thead>\n",
       "  <tbody>\n",
       "    <tr>\n",
       "      <th>24990</th>\n",
       "      <td>9</td>\n",
       "      <td>603</td>\n",
       "      <td>9</td>\n",
       "      <td>49</td>\n",
       "      <td>2470</td>\n",
       "      <td>24.0</td>\n",
       "    </tr>\n",
       "    <tr>\n",
       "      <th>8406</th>\n",
       "      <td>10</td>\n",
       "      <td>813</td>\n",
       "      <td>9</td>\n",
       "      <td>291</td>\n",
       "      <td>70</td>\n",
       "      <td>24.0</td>\n",
       "    </tr>\n",
       "    <tr>\n",
       "      <th>2467</th>\n",
       "      <td>10</td>\n",
       "      <td>1535</td>\n",
       "      <td>9</td>\n",
       "      <td>37</td>\n",
       "      <td>1</td>\n",
       "      <td>23.0</td>\n",
       "    </tr>\n",
       "    <tr>\n",
       "      <th>11936</th>\n",
       "      <td>0</td>\n",
       "      <td>3455</td>\n",
       "      <td>9</td>\n",
       "      <td>26</td>\n",
       "      <td>186</td>\n",
       "      <td>24.0</td>\n",
       "    </tr>\n",
       "    <tr>\n",
       "      <th>17117</th>\n",
       "      <td>0</td>\n",
       "      <td>5460</td>\n",
       "      <td>9</td>\n",
       "      <td>1</td>\n",
       "      <td>2137</td>\n",
       "      <td>111.0</td>\n",
       "    </tr>\n",
       "  </tbody>\n",
       "</table>\n",
       "</div>"
      ],
      "text/plain": [
       "       rating  anime_id  user_id  episodes  popularity  duration_min\n",
       "24990       9       603        9        49        2470          24.0\n",
       "8406       10       813        9       291          70          24.0\n",
       "2467       10      1535        9        37           1          23.0\n",
       "11936       0      3455        9        26         186          24.0\n",
       "17117       0      5460        9         1        2137         111.0"
      ]
     },
     "execution_count": 12,
     "metadata": {},
     "output_type": "execute_result"
    }
   ],
   "source": [
    "train_data2.head()"
   ]
  },
  {
   "cell_type": "code",
   "execution_count": 13,
   "metadata": {},
   "outputs": [
    {
     "data": {
      "text/html": [
       "<div>\n",
       "<style scoped>\n",
       "    .dataframe tbody tr th:only-of-type {\n",
       "        vertical-align: middle;\n",
       "    }\n",
       "\n",
       "    .dataframe tbody tr th {\n",
       "        vertical-align: top;\n",
       "    }\n",
       "\n",
       "    .dataframe thead th {\n",
       "        text-align: right;\n",
       "    }\n",
       "</style>\n",
       "<table border=\"1\" class=\"dataframe\">\n",
       "  <thead>\n",
       "    <tr style=\"text-align: right;\">\n",
       "      <th></th>\n",
       "      <th>rating</th>\n",
       "      <th>anime_id</th>\n",
       "      <th>user_id</th>\n",
       "      <th>episodes</th>\n",
       "      <th>popularity</th>\n",
       "      <th>duration_min</th>\n",
       "    </tr>\n",
       "  </thead>\n",
       "  <tbody>\n",
       "    <tr>\n",
       "      <th>13182</th>\n",
       "      <td>9</td>\n",
       "      <td>239</td>\n",
       "      <td>9</td>\n",
       "      <td>24</td>\n",
       "      <td>634</td>\n",
       "      <td>24.0</td>\n",
       "    </tr>\n",
       "    <tr>\n",
       "      <th>15919</th>\n",
       "      <td>8</td>\n",
       "      <td>142</td>\n",
       "      <td>9</td>\n",
       "      <td>44</td>\n",
       "      <td>1885</td>\n",
       "      <td>24.0</td>\n",
       "    </tr>\n",
       "    <tr>\n",
       "      <th>15695</th>\n",
       "      <td>10</td>\n",
       "      <td>223</td>\n",
       "      <td>9</td>\n",
       "      <td>153</td>\n",
       "      <td>99</td>\n",
       "      <td>24.0</td>\n",
       "    </tr>\n",
       "    <tr>\n",
       "      <th>11369</th>\n",
       "      <td>10</td>\n",
       "      <td>235</td>\n",
       "      <td>9</td>\n",
       "      <td>0</td>\n",
       "      <td>515</td>\n",
       "      <td>25.0</td>\n",
       "    </tr>\n",
       "    <tr>\n",
       "      <th>10361</th>\n",
       "      <td>10</td>\n",
       "      <td>21</td>\n",
       "      <td>9</td>\n",
       "      <td>0</td>\n",
       "      <td>35</td>\n",
       "      <td>24.0</td>\n",
       "    </tr>\n",
       "  </tbody>\n",
       "</table>\n",
       "</div>"
      ],
      "text/plain": [
       "       rating  anime_id  user_id  episodes  popularity  duration_min\n",
       "13182       9       239        9        24         634          24.0\n",
       "15919       8       142        9        44        1885          24.0\n",
       "15695      10       223        9       153          99          24.0\n",
       "11369      10       235        9         0         515          25.0\n",
       "10361      10        21        9         0          35          24.0"
      ]
     },
     "execution_count": 13,
     "metadata": {},
     "output_type": "execute_result"
    }
   ],
   "source": [
    "test_data2.head()"
   ]
  },
  {
   "cell_type": "code",
   "execution_count": 14,
   "metadata": {
    "collapsed": true
   },
   "outputs": [],
   "source": [
    "from lambdamart import LambdaMART\n",
    "import numpy as np\n",
    "\n",
    "\n",
    "def get_data(df):\n",
    "\t#f = open(file_loc, 'r')\n",
    "\tdata = []\n",
    "\tfor line in df.index.values:\n",
    "\t\tnew_arr = []\n",
    "\t\t\n",
    "\t\tscore = df.loc[line, 'rating']\n",
    "\t\tq_id = df.loc[line, 'user_id']\n",
    "\t\tnew_arr.append(int(score))\n",
    "\t\tnew_arr.append(int(q_id))\n",
    "\t\tarr = list(df.loc[line, ['episodes', 'popularity', 'duration_min']])\n",
    "\t\t#print(\"subseted arr is:\", arr)\n",
    "\t\tfor el in arr:\n",
    "\t\t\tnew_arr.append(float(el))\n",
    "\t\t#print(\" \\n New arr is:\",new_arr)\n",
    "\t\tdata.append(new_arr)\n",
    "\t#f.close()\n",
    "\tprint(np.array(data))\n",
    "\treturn np.array(data)\t"
   ]
  },
  {
   "cell_type": "code",
   "execution_count": 15,
   "metadata": {},
   "outputs": [
    {
     "name": "stdout",
     "output_type": "stream",
     "text": [
      "[[9.00000e+00 9.00000e+00 4.90000e+01 2.47000e+03 2.40000e+01]\n",
      " [1.00000e+01 9.00000e+00 2.91000e+02 7.00000e+01 2.40000e+01]\n",
      " [1.00000e+01 9.00000e+00 3.70000e+01 1.00000e+00 2.30000e+01]\n",
      " ...\n",
      " [1.00000e+01 2.82985e+05 1.00000e+00 1.71800e+03 1.04000e+02]\n",
      " [0.00000e+00 2.82985e+05 1.30000e+01 2.24000e+02 2.30000e+01]\n",
      " [0.00000e+00 2.82985e+05 1.00000e+00 2.93300e+03 2.80000e+01]]\n",
      "[[9.00000e+00 9.00000e+00 2.40000e+01 6.34000e+02 2.40000e+01]\n",
      " [8.00000e+00 9.00000e+00 4.40000e+01 1.88500e+03 2.40000e+01]\n",
      " [1.00000e+01 9.00000e+00 1.53000e+02 9.90000e+01 2.40000e+01]\n",
      " ...\n",
      " [0.00000e+00 2.82985e+05 1.30000e+01 1.09900e+03 2.50000e+01]\n",
      " [7.00000e+00 2.82985e+05 1.30000e+01 4.19000e+02 2.40000e+01]\n",
      " [0.00000e+00 2.82985e+05 1.10000e+01 1.45800e+03 2.30000e+01]]\n"
     ]
    }
   ],
   "source": [
    "training_data_reco = get_data(train_data2)\n",
    "test_data_reco = get_data(test_data2)"
   ]
  },
  {
   "cell_type": "code",
   "execution_count": 16,
   "metadata": {},
   "outputs": [
    {
     "data": {
      "text/plain": [
       "array([[9.00000e+00, 9.00000e+00, 4.90000e+01, 2.47000e+03, 2.40000e+01],\n",
       "       [1.00000e+01, 9.00000e+00, 2.91000e+02, 7.00000e+01, 2.40000e+01],\n",
       "       [1.00000e+01, 9.00000e+00, 3.70000e+01, 1.00000e+00, 2.30000e+01],\n",
       "       ...,\n",
       "       [1.00000e+01, 2.82985e+05, 1.00000e+00, 1.71800e+03, 1.04000e+02],\n",
       "       [0.00000e+00, 2.82985e+05, 1.30000e+01, 2.24000e+02, 2.30000e+01],\n",
       "       [0.00000e+00, 2.82985e+05, 1.00000e+00, 2.93300e+03, 2.80000e+01]])"
      ]
     },
     "execution_count": 16,
     "metadata": {},
     "output_type": "execute_result"
    }
   ],
   "source": [
    "training_data_reco"
   ]
  },
  {
   "cell_type": "code",
   "execution_count": 17,
   "metadata": {},
   "outputs": [
    {
     "name": "stdout",
     "output_type": "stream",
     "text": [
      "lenght of idcg 4615\n",
      "Tree 0\n",
      "Tree 1\n"
     ]
    }
   ],
   "source": [
    "model = LambdaMART(\n",
    "\ttraining_data=training_data_reco, \n",
    "\tnumber_of_trees=2, \n",
    "\tlearning_rate=0.1)\n",
    "model.fit()"
   ]
  },
  {
   "cell_type": "code",
   "execution_count": 18,
   "metadata": {},
   "outputs": [
    {
     "name": "stderr",
     "output_type": "stream",
     "text": [
      "C:\\UTA_Acads\\FALL_SEMESTER\\APM\\Anime_Recommendation\\LambdaMart\\lambdamart.py:332: RuntimeWarning: invalid value encountered in double_scalars\n",
      "  ndcg_val = (dcg_val / idcg_val)\n"
     ]
    },
    {
     "name": "stdout",
     "output_type": "stream",
     "text": [
      "Mean taken\n"
     ]
    }
   ],
   "source": [
    "average_ndcg, predicted_scores = model.validate(test_data_reco,5)"
   ]
  },
  {
   "cell_type": "code",
   "execution_count": 19,
   "metadata": {},
   "outputs": [
    {
     "data": {
      "text/plain": [
       "0.7269762641801752"
      ]
     },
     "execution_count": 19,
     "metadata": {},
     "output_type": "execute_result"
    }
   ],
   "source": [
    "average_ndcg"
   ]
  },
  {
   "cell_type": "code",
   "execution_count": 20,
   "metadata": {},
   "outputs": [
    {
     "data": {
      "text/html": [
       "<div>\n",
       "<style scoped>\n",
       "    .dataframe tbody tr th:only-of-type {\n",
       "        vertical-align: middle;\n",
       "    }\n",
       "\n",
       "    .dataframe tbody tr th {\n",
       "        vertical-align: top;\n",
       "    }\n",
       "\n",
       "    .dataframe thead th {\n",
       "        text-align: right;\n",
       "    }\n",
       "</style>\n",
       "<table border=\"1\" class=\"dataframe\">\n",
       "  <thead>\n",
       "    <tr style=\"text-align: right;\">\n",
       "      <th></th>\n",
       "      <th>rating</th>\n",
       "      <th>anime_id</th>\n",
       "      <th>user_id</th>\n",
       "      <th>episodes</th>\n",
       "      <th>popularity</th>\n",
       "      <th>duration_min</th>\n",
       "    </tr>\n",
       "  </thead>\n",
       "  <tbody>\n",
       "    <tr>\n",
       "      <th>24990</th>\n",
       "      <td>9</td>\n",
       "      <td>603</td>\n",
       "      <td>9</td>\n",
       "      <td>49</td>\n",
       "      <td>2470</td>\n",
       "      <td>24.0</td>\n",
       "    </tr>\n",
       "    <tr>\n",
       "      <th>8406</th>\n",
       "      <td>10</td>\n",
       "      <td>813</td>\n",
       "      <td>9</td>\n",
       "      <td>291</td>\n",
       "      <td>70</td>\n",
       "      <td>24.0</td>\n",
       "    </tr>\n",
       "    <tr>\n",
       "      <th>2467</th>\n",
       "      <td>10</td>\n",
       "      <td>1535</td>\n",
       "      <td>9</td>\n",
       "      <td>37</td>\n",
       "      <td>1</td>\n",
       "      <td>23.0</td>\n",
       "    </tr>\n",
       "    <tr>\n",
       "      <th>11936</th>\n",
       "      <td>0</td>\n",
       "      <td>3455</td>\n",
       "      <td>9</td>\n",
       "      <td>26</td>\n",
       "      <td>186</td>\n",
       "      <td>24.0</td>\n",
       "    </tr>\n",
       "    <tr>\n",
       "      <th>17117</th>\n",
       "      <td>0</td>\n",
       "      <td>5460</td>\n",
       "      <td>9</td>\n",
       "      <td>1</td>\n",
       "      <td>2137</td>\n",
       "      <td>111.0</td>\n",
       "    </tr>\n",
       "  </tbody>\n",
       "</table>\n",
       "</div>"
      ],
      "text/plain": [
       "       rating  anime_id  user_id  episodes  popularity  duration_min\n",
       "24990       9       603        9        49        2470          24.0\n",
       "8406       10       813        9       291          70          24.0\n",
       "2467       10      1535        9        37           1          23.0\n",
       "11936       0      3455        9        26         186          24.0\n",
       "17117       0      5460        9         1        2137         111.0"
      ]
     },
     "execution_count": 20,
     "metadata": {},
     "output_type": "execute_result"
    }
   ],
   "source": [
    "train_data2.head()"
   ]
  },
  {
   "cell_type": "code",
   "execution_count": 21,
   "metadata": {},
   "outputs": [
    {
     "data": {
      "text/plain": [
       "array([[9.00000e+00, 6.03000e+02, 9.00000e+00, 4.90000e+01, 2.47000e+03,\n",
       "        2.40000e+01],\n",
       "       [1.00000e+01, 8.13000e+02, 9.00000e+00, 2.91000e+02, 7.00000e+01,\n",
       "        2.40000e+01],\n",
       "       [1.00000e+01, 1.53500e+03, 9.00000e+00, 3.70000e+01, 1.00000e+00,\n",
       "        2.30000e+01],\n",
       "       ...,\n",
       "       [1.00000e+01, 8.75000e+02, 2.82985e+05, 1.00000e+00, 1.71800e+03,\n",
       "        1.04000e+02],\n",
       "       [0.00000e+00, 3.39000e+02, 2.82985e+05, 1.30000e+01, 2.24000e+02,\n",
       "        2.30000e+01],\n",
       "       [0.00000e+00, 1.13550e+04, 2.82985e+05, 1.00000e+00, 2.93300e+03,\n",
       "        2.80000e+01]])"
      ]
     },
     "execution_count": 21,
     "metadata": {},
     "output_type": "execute_result"
    }
   ],
   "source": [
    "np.array(train_data2)"
   ]
  },
  {
   "cell_type": "code",
   "execution_count": 22,
   "metadata": {},
   "outputs": [
    {
     "data": {
      "text/plain": [
       "array([[9.00000e+00, 9.00000e+00, 4.90000e+01, 2.47000e+03, 2.40000e+01],\n",
       "       [1.00000e+01, 9.00000e+00, 2.91000e+02, 7.00000e+01, 2.40000e+01],\n",
       "       [1.00000e+01, 9.00000e+00, 3.70000e+01, 1.00000e+00, 2.30000e+01],\n",
       "       ...,\n",
       "       [1.00000e+01, 2.82985e+05, 1.00000e+00, 1.71800e+03, 1.04000e+02],\n",
       "       [0.00000e+00, 2.82985e+05, 1.30000e+01, 2.24000e+02, 2.30000e+01],\n",
       "       [0.00000e+00, 2.82985e+05, 1.00000e+00, 2.93300e+03, 2.80000e+01]])"
      ]
     },
     "execution_count": 22,
     "metadata": {},
     "output_type": "execute_result"
    }
   ],
   "source": [
    "training_data_reco"
   ]
  },
  {
   "cell_type": "code",
   "execution_count": 23,
   "metadata": {
    "collapsed": true
   },
   "outputs": [],
   "source": [
    "x = [1,2]"
   ]
  },
  {
   "cell_type": "code",
   "execution_count": null,
   "metadata": {
    "collapsed": true
   },
   "outputs": [],
   "source": [
    "from multiprocessing import Pool\n",
    "p = Pool()\n",
    "\n",
    "def f(x):\n",
    "    return x*7\n",
    "\n",
    "p.map(f, [1,2,3])"
   ]
  },
  {
   "cell_type": "code",
   "execution_count": null,
   "metadata": {
    "collapsed": true
   },
   "outputs": [],
   "source": []
  }
 ],
 "metadata": {
  "kernelspec": {
   "display_name": "Python 3",
   "language": "python",
   "name": "python3"
  },
  "language_info": {
   "codemirror_mode": {
    "name": "ipython",
    "version": 3
   },
   "file_extension": ".py",
   "mimetype": "text/x-python",
   "name": "python",
   "nbconvert_exporter": "python",
   "pygments_lexer": "ipython3",
   "version": "3.6.6"
  }
 },
 "nbformat": 4,
 "nbformat_minor": 2
}
