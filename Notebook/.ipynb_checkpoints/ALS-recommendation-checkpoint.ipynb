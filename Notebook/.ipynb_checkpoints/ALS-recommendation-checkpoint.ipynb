{
 "cells": [
  {
   "cell_type": "code",
   "execution_count": 4,
   "metadata": {},
   "outputs": [
    {
     "name": "stdout",
     "output_type": "stream",
     "text": [
      "Training model...\n",
      "DONE!\n"
     ]
    }
   ],
   "source": [
    "import findspark\n",
    "findspark.init()\n",
    "import pyspark\n",
    "import sys\n",
    "from pyspark import SparkConf, SparkContext\n",
    "from pyspark.mllib.recommendation import ALS, Rating\n",
    "from ipywidgets import widgets, interact_manual, Layout\n",
    "from IPython.display import display\n",
    "from urllib.request import urlopen\n",
    "import matplotlib.pyplot as plt\n",
    "\n",
    "# Define function \n",
    "def loadAnimeNames():\n",
    "    animeNames = {}\n",
    "    with open(\"anime_cleaned_1.csv\", encoding='ascii', errors=\"ignore\") as f:\n",
    "        for line in f:\n",
    "            fields = line.split(',')\n",
    "            animeNames[int(fields[0])] = [fields[1],fields[2]]\n",
    "    return animeNames\n",
    "\n",
    "def loadUserNames():\n",
    "    usernames = {}\n",
    "    with open(\"animelists_als.csv\", encoding='ascii', errors=\"ignore\") as f:\n",
    "        for line in f:\n",
    "            fields = line.split(',')\n",
    "            usernames[int(fields[0])] = fields[1]\n",
    "    return usernames\n",
    "\n",
    "def parseline(line):\n",
    "    fields = line.split(',')\n",
    "    userid = fields[0]\n",
    "    username = fields[1]\n",
    "    animeid = fields[2]\n",
    "    score = fields[3]\n",
    "    return (userid, animeid, score)\n",
    "\n",
    "# pyspark set-up\n",
    "conf = SparkConf().setMaster(\"local[*]\").setAppName(\"AnimeRecommendationsALS\")\n",
    "sc = SparkContext(conf = conf)\n",
    "sc.setCheckpointDir('checkpoint')\n",
    "\n",
    "# Build rating object for ALS \n",
    "nameDict = loadAnimeNames()\n",
    "usernameDict = loadUserNames()\n",
    "\n",
    "lines = sc.textFile(\"animelists_als.csv\")\n",
    "parsedlines = lines.map(parseline)\n",
    "ratings = parsedlines.map(lambda l: Rating(int(l[0]), int(l[1]), float(l[2]))).cache()\n",
    "\n",
    "print(\"Training model...\")\n",
    "# Build the recommendation model using Alternating Least Squares\n",
    "rank = 5\n",
    "numIterations = 20\n",
    "model = ALS.train(ratings, rank, numIterations)\n",
    "\n",
    "def RecommendationSystem():\n",
    "\n",
    "    userID = int(text.value)\n",
    "    print(\"\\nTop 5 recommendations for \",usernameDict[userID],\":\\n\")\n",
    "    recommendations = model.recommendProducts(userID, 5)\n",
    "    for recommendation in recommendations:\n",
    "        print (nameDict[int(recommendation[1])][0])\n",
    "\n",
    "    image_list = []\n",
    "    for user, item, rating in model.recommendProducts(userID, 5):\n",
    "        image_list.append(urlopen(nameDict[int(item)][1]))\n",
    "\n",
    "    item_list = []\n",
    "    for user, item, rating in model.recommendProducts(userID, 5):\n",
    "        item_list.append((nameDict[int(item)][0]))\n",
    "\n",
    "    final_list = list(zip(item_list,image_list))\n",
    "\n",
    "    fig, (ax0,ax1,ax2,ax3,ax4) = plt.subplots(1,5,figsize=(30,30))\n",
    "    for i, (item,img) in enumerate(final_list):\n",
    "        f = plt.imread(img,format='jpg')\n",
    "        eval('ax{}'.format(i)).imshow(f)\n",
    "        eval('ax{}'.format(i)).set_title(item)\n",
    "    plt.show()\n",
    "    \n",
    "print(\"DONE!\")\n"
   ]
  },
  {
   "cell_type": "code",
   "execution_count": null,
   "metadata": {},
   "outputs": [],
   "source": []
  },
  {
   "cell_type": "code",
   "execution_count": 5,
   "metadata": {},
   "outputs": [
    {
     "data": {
      "text/plain": [
       "'Enter user id:'"
      ]
     },
     "metadata": {},
     "output_type": "display_data"
    },
    {
     "data": {
      "application/vnd.jupyter.widget-view+json": {
       "model_id": "f9bd694456694a9a8a837758583b83b6",
       "version_major": 2,
       "version_minor": 0
      },
      "text/plain": [
       "Text(value='')"
      ]
     },
     "metadata": {},
     "output_type": "display_data"
    },
    {
     "data": {
      "application/vnd.jupyter.widget-view+json": {
       "model_id": "f3f85a73eb904e44a99e6f55b838acab",
       "version_major": 2,
       "version_minor": 0
      },
      "text/plain": [
       "interactive(children=(Button(description='Run', style=ButtonStyle()), Output()), _dom_classes=('widget-interac…"
      ]
     },
     "metadata": {},
     "output_type": "display_data"
    }
   ],
   "source": [
    "text=widgets.Text()\n",
    "display(\"Enter user id:\",text)\n",
    "interact_manual.opts['manual_name'] = 'Run'\n",
    "bt = interact_manual(RecommendationSystem)"
   ]
  },
  {
   "cell_type": "code",
   "execution_count": 3,
   "metadata": {},
   "outputs": [],
   "source": [
    "#sc.stop()"
   ]
  },
  {
   "cell_type": "code",
   "execution_count": null,
   "metadata": {},
   "outputs": [
    {
     "data": {
      "application/vnd.jupyter.widget-view+json": {
       "model_id": "641856bf509d45d58e556fcba87b41e5",
       "version_major": 2,
       "version_minor": 0
      },
      "text/plain": [
       "HBox(children=(IntProgress(value=0, max=6249719), HTML(value='')))"
      ]
     },
     "metadata": {},
     "output_type": "display_data"
    }
   ],
   "source": [
    "import pandas as pd\n",
    "import numpy as np\n",
    "from tqdm import tqdm_notebook as tqdm\n",
    "nn_predict = pd.read_csv(\"NeuralNets_pred.csv\")\n",
    "\n",
    "from collections import defaultdict\n",
    "def get_top_n(predictions, n=5):\n",
    "    # First map the predictions to each user.\n",
    "    top_n = defaultdict(list)\n",
    "#    top_n = {}\n",
    "    for i in tqdm(range(len(predictions))):\n",
    "        top_n[predictions[\"username\"].iloc[i]].append((predictions[\"anime_id\"].iloc[i], predictions[\"score\"].iloc[i]))\n",
    "\n",
    "    # Then sort the predictions for each user and retrieve the k highest ones.\n",
    "    for uid, user_ratings in top_n.items():\n",
    "        user_ratings.sort(key=lambda x: x[1], reverse=True)\n",
    "        top_n[uid] = [i[0] for i in user_ratings[:n]]\n",
    "\n",
    "    return top_n\n",
    "\n",
    "NN_recommend_dict = get_top_n(nn_predict)\n",
    "NN_recommend_dict"
   ]
  },
  {
   "cell_type": "code",
   "execution_count": 8,
   "metadata": {},
   "outputs": [
    {
     "name": "stdout",
     "output_type": "stream",
     "text": [
      "0\n"
     ]
    }
   ],
   "source": [
    "for userid, username in usernameDict.items():\n",
    "    if username == 'karthiga':\n",
    "        print(userid)"
   ]
  }
 ],
 "metadata": {
  "kernelspec": {
   "display_name": "Python 3",
   "language": "python",
   "name": "python3"
  },
  "language_info": {
   "codemirror_mode": {
    "name": "ipython",
    "version": 3
   },
   "file_extension": ".py",
   "mimetype": "text/x-python",
   "name": "python",
   "nbconvert_exporter": "python",
   "pygments_lexer": "ipython3",
   "version": "3.6.7"
  }
 },
 "nbformat": 4,
 "nbformat_minor": 2
}
