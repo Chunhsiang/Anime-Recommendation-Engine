{
 "cells": [
  {
   "cell_type": "code",
   "execution_count": 1,
   "metadata": {},
   "outputs": [],
   "source": [
    "import seaborn as sns\n",
    "import pandas as pd\n",
    "import numpy as np\n",
    "import matplotlib.pyplot as plt\n",
    "%matplotlib inline"
   ]
  },
  {
   "cell_type": "code",
   "execution_count": 2,
   "metadata": {
    "scrolled": true
   },
   "outputs": [],
   "source": [
    "ratings = pd.read_csv(\"animelists_cleaned.csv\")"
   ]
  },
  {
   "cell_type": "code",
   "execution_count": 3,
   "metadata": {},
   "outputs": [
    {
     "data": {
      "text/plain": [
       "31284030"
      ]
     },
     "execution_count": 3,
     "metadata": {},
     "output_type": "execute_result"
    }
   ],
   "source": [
    "len(ratings)"
   ]
  },
  {
   "cell_type": "code",
   "execution_count": 4,
   "metadata": {
    "scrolled": true
   },
   "outputs": [
    {
     "data": {
      "text/html": [
       "<div>\n",
       "<style scoped>\n",
       "    .dataframe tbody tr th:only-of-type {\n",
       "        vertical-align: middle;\n",
       "    }\n",
       "\n",
       "    .dataframe tbody tr th {\n",
       "        vertical-align: top;\n",
       "    }\n",
       "\n",
       "    .dataframe thead th {\n",
       "        text-align: right;\n",
       "    }\n",
       "</style>\n",
       "<table border=\"1\" class=\"dataframe\">\n",
       "  <thead>\n",
       "    <tr style=\"text-align: right;\">\n",
       "      <th></th>\n",
       "      <th>username</th>\n",
       "      <th>anime_id</th>\n",
       "      <th>my_watched_episodes</th>\n",
       "      <th>my_start_date</th>\n",
       "      <th>my_finish_date</th>\n",
       "      <th>my_score</th>\n",
       "      <th>my_status</th>\n",
       "      <th>my_rewatching</th>\n",
       "      <th>my_rewatching_ep</th>\n",
       "      <th>my_last_updated</th>\n",
       "      <th>my_tags</th>\n",
       "    </tr>\n",
       "  </thead>\n",
       "  <tbody>\n",
       "    <tr>\n",
       "      <th>0</th>\n",
       "      <td>karthiga</td>\n",
       "      <td>21</td>\n",
       "      <td>586</td>\n",
       "      <td>0000-00-00</td>\n",
       "      <td>0000-00-00</td>\n",
       "      <td>9</td>\n",
       "      <td>1</td>\n",
       "      <td>NaN</td>\n",
       "      <td>0</td>\n",
       "      <td>2013-03-03 10:52:53</td>\n",
       "      <td>NaN</td>\n",
       "    </tr>\n",
       "    <tr>\n",
       "      <th>1</th>\n",
       "      <td>karthiga</td>\n",
       "      <td>59</td>\n",
       "      <td>26</td>\n",
       "      <td>0000-00-00</td>\n",
       "      <td>0000-00-00</td>\n",
       "      <td>7</td>\n",
       "      <td>2</td>\n",
       "      <td>NaN</td>\n",
       "      <td>0</td>\n",
       "      <td>2013-03-10 13:54:51</td>\n",
       "      <td>NaN</td>\n",
       "    </tr>\n",
       "    <tr>\n",
       "      <th>2</th>\n",
       "      <td>karthiga</td>\n",
       "      <td>74</td>\n",
       "      <td>26</td>\n",
       "      <td>0000-00-00</td>\n",
       "      <td>0000-00-00</td>\n",
       "      <td>7</td>\n",
       "      <td>2</td>\n",
       "      <td>NaN</td>\n",
       "      <td>0</td>\n",
       "      <td>2013-04-27 16:43:35</td>\n",
       "      <td>NaN</td>\n",
       "    </tr>\n",
       "    <tr>\n",
       "      <th>3</th>\n",
       "      <td>karthiga</td>\n",
       "      <td>120</td>\n",
       "      <td>26</td>\n",
       "      <td>0000-00-00</td>\n",
       "      <td>0000-00-00</td>\n",
       "      <td>7</td>\n",
       "      <td>2</td>\n",
       "      <td>NaN</td>\n",
       "      <td>0</td>\n",
       "      <td>2013-03-03 10:53:57</td>\n",
       "      <td>NaN</td>\n",
       "    </tr>\n",
       "    <tr>\n",
       "      <th>4</th>\n",
       "      <td>karthiga</td>\n",
       "      <td>178</td>\n",
       "      <td>26</td>\n",
       "      <td>0000-00-00</td>\n",
       "      <td>0000-00-00</td>\n",
       "      <td>7</td>\n",
       "      <td>2</td>\n",
       "      <td>0.0</td>\n",
       "      <td>0</td>\n",
       "      <td>2013-03-27 15:59:13</td>\n",
       "      <td>NaN</td>\n",
       "    </tr>\n",
       "    <tr>\n",
       "      <th>5</th>\n",
       "      <td>karthiga</td>\n",
       "      <td>210</td>\n",
       "      <td>161</td>\n",
       "      <td>0000-00-00</td>\n",
       "      <td>0000-00-00</td>\n",
       "      <td>7</td>\n",
       "      <td>2</td>\n",
       "      <td>NaN</td>\n",
       "      <td>0</td>\n",
       "      <td>2013-03-10 13:57:06</td>\n",
       "      <td>NaN</td>\n",
       "    </tr>\n",
       "    <tr>\n",
       "      <th>6</th>\n",
       "      <td>karthiga</td>\n",
       "      <td>232</td>\n",
       "      <td>70</td>\n",
       "      <td>0000-00-00</td>\n",
       "      <td>0000-00-00</td>\n",
       "      <td>6</td>\n",
       "      <td>2</td>\n",
       "      <td>NaN</td>\n",
       "      <td>0</td>\n",
       "      <td>2013-03-09 17:24:42</td>\n",
       "      <td>NaN</td>\n",
       "    </tr>\n",
       "    <tr>\n",
       "      <th>7</th>\n",
       "      <td>karthiga</td>\n",
       "      <td>233</td>\n",
       "      <td>78</td>\n",
       "      <td>0000-00-00</td>\n",
       "      <td>0000-00-00</td>\n",
       "      <td>6</td>\n",
       "      <td>2</td>\n",
       "      <td>NaN</td>\n",
       "      <td>0</td>\n",
       "      <td>2013-03-10 05:29:44</td>\n",
       "      <td>NaN</td>\n",
       "    </tr>\n",
       "    <tr>\n",
       "      <th>8</th>\n",
       "      <td>karthiga</td>\n",
       "      <td>249</td>\n",
       "      <td>167</td>\n",
       "      <td>0000-00-00</td>\n",
       "      <td>0000-00-00</td>\n",
       "      <td>8</td>\n",
       "      <td>2</td>\n",
       "      <td>NaN</td>\n",
       "      <td>0</td>\n",
       "      <td>2013-03-19 16:04:46</td>\n",
       "      <td>NaN</td>\n",
       "    </tr>\n",
       "    <tr>\n",
       "      <th>9</th>\n",
       "      <td>karthiga</td>\n",
       "      <td>269</td>\n",
       "      <td>366</td>\n",
       "      <td>0000-00-00</td>\n",
       "      <td>0000-00-00</td>\n",
       "      <td>10</td>\n",
       "      <td>2</td>\n",
       "      <td>NaN</td>\n",
       "      <td>0</td>\n",
       "      <td>2013-03-03 09:39:23</td>\n",
       "      <td>NaN</td>\n",
       "    </tr>\n",
       "  </tbody>\n",
       "</table>\n",
       "</div>"
      ],
      "text/plain": [
       "   username  anime_id  my_watched_episodes my_start_date my_finish_date  \\\n",
       "0  karthiga        21                  586    0000-00-00     0000-00-00   \n",
       "1  karthiga        59                   26    0000-00-00     0000-00-00   \n",
       "2  karthiga        74                   26    0000-00-00     0000-00-00   \n",
       "3  karthiga       120                   26    0000-00-00     0000-00-00   \n",
       "4  karthiga       178                   26    0000-00-00     0000-00-00   \n",
       "5  karthiga       210                  161    0000-00-00     0000-00-00   \n",
       "6  karthiga       232                   70    0000-00-00     0000-00-00   \n",
       "7  karthiga       233                   78    0000-00-00     0000-00-00   \n",
       "8  karthiga       249                  167    0000-00-00     0000-00-00   \n",
       "9  karthiga       269                  366    0000-00-00     0000-00-00   \n",
       "\n",
       "   my_score  my_status  my_rewatching  my_rewatching_ep      my_last_updated  \\\n",
       "0         9          1            NaN                 0  2013-03-03 10:52:53   \n",
       "1         7          2            NaN                 0  2013-03-10 13:54:51   \n",
       "2         7          2            NaN                 0  2013-04-27 16:43:35   \n",
       "3         7          2            NaN                 0  2013-03-03 10:53:57   \n",
       "4         7          2            0.0                 0  2013-03-27 15:59:13   \n",
       "5         7          2            NaN                 0  2013-03-10 13:57:06   \n",
       "6         6          2            NaN                 0  2013-03-09 17:24:42   \n",
       "7         6          2            NaN                 0  2013-03-10 05:29:44   \n",
       "8         8          2            NaN                 0  2013-03-19 16:04:46   \n",
       "9        10          2            NaN                 0  2013-03-03 09:39:23   \n",
       "\n",
       "  my_tags  \n",
       "0     NaN  \n",
       "1     NaN  \n",
       "2     NaN  \n",
       "3     NaN  \n",
       "4     NaN  \n",
       "5     NaN  \n",
       "6     NaN  \n",
       "7     NaN  \n",
       "8     NaN  \n",
       "9     NaN  "
      ]
     },
     "execution_count": 4,
     "metadata": {},
     "output_type": "execute_result"
    }
   ],
   "source": [
    "ratings[:10]"
   ]
  },
  {
   "cell_type": "markdown",
   "metadata": {},
   "source": [
    "### Time"
   ]
  },
  {
   "cell_type": "code",
   "execution_count": 6,
   "metadata": {
    "scrolled": true
   },
   "outputs": [
    {
     "data": {
      "text/plain": [
       "0000-00-00    26420926\n",
       "2008-00-00       12156\n",
       "2009-00-00       10533\n",
       "2007-00-00       10425\n",
       "2010-00-00        9304\n",
       "2011-00-00        8909\n",
       "2012-00-00        8826\n",
       "2015-04-05        8200\n",
       "2015-10-04        8087\n",
       "2013-00-00        8003\n",
       "Name: my_start_date, dtype: int64"
      ]
     },
     "execution_count": 6,
     "metadata": {},
     "output_type": "execute_result"
    }
   ],
   "source": [
    "ratings[\"my_start_date\"].value_counts()[:10]"
   ]
  },
  {
   "cell_type": "code",
   "execution_count": 7,
   "metadata": {
    "scrolled": true
   },
   "outputs": [
    {
     "data": {
      "text/plain": [
       "0000-00-00    25391706\n",
       "2015-03-29       11058\n",
       "2015-09-27       10445\n",
       "2015-09-26       10439\n",
       "2016-03-27       10334\n",
       "2008-00-00       10266\n",
       "2015-03-28        9863\n",
       "2016-03-26        9588\n",
       "2016-03-28        9444\n",
       "2013-09-29        9434\n",
       "Name: my_finish_date, dtype: int64"
      ]
     },
     "execution_count": 7,
     "metadata": {},
     "output_type": "execute_result"
    }
   ],
   "source": [
    "ratings[\"my_finish_date\"].value_counts()[:10]"
   ]
  },
  {
   "cell_type": "code",
   "execution_count": null,
   "metadata": {},
   "outputs": [],
   "source": []
  },
  {
   "cell_type": "code",
   "execution_count": 8,
   "metadata": {},
   "outputs": [],
   "source": [
    "#ratings[\"my_last_updated\"] = ratings[\"my_last_updated\"].map(lambda x : pd.to_datetime(x, format=\"%Y-%m-%d %H:%M:%S\"))"
   ]
  },
  {
   "cell_type": "markdown",
   "metadata": {},
   "source": [
    "One user only rates an anime for once"
   ]
  },
  {
   "cell_type": "code",
   "execution_count": 9,
   "metadata": {},
   "outputs": [],
   "source": [
    "each_rate = ratings.groupby([\"username\", \"anime_id\"]).size()"
   ]
  },
  {
   "cell_type": "code",
   "execution_count": 10,
   "metadata": {},
   "outputs": [
    {
     "data": {
      "text/plain": [
       "[1, 1, 1, 1, 1]"
      ]
     },
     "execution_count": 10,
     "metadata": {},
     "output_type": "execute_result"
    }
   ],
   "source": [
    "sorted(each_rate)[-5:]"
   ]
  },
  {
   "cell_type": "code",
   "execution_count": null,
   "metadata": {},
   "outputs": [],
   "source": []
  },
  {
   "cell_type": "markdown",
   "metadata": {},
   "source": [
    "### Status"
   ]
  },
  {
   "cell_type": "code",
   "execution_count": 11,
   "metadata": {},
   "outputs": [
    {
     "data": {
      "text/plain": [
       "2     19946276\n",
       "6      7362297\n",
       "1      1558384\n",
       "4      1230250\n",
       "3      1186648\n",
       "0          167\n",
       "5            4\n",
       "33           3\n",
       "55           1\n",
       "Name: my_status, dtype: int64"
      ]
     },
     "execution_count": 11,
     "metadata": {},
     "output_type": "execute_result"
    }
   ],
   "source": [
    "ratings[\"my_status\"].value_counts()"
   ]
  },
  {
   "cell_type": "code",
   "execution_count": 12,
   "metadata": {},
   "outputs": [
    {
     "data": {
      "text/plain": [
       "numpy.int64"
      ]
     },
     "execution_count": 12,
     "metadata": {},
     "output_type": "execute_result"
    }
   ],
   "source": [
    "type(ratings[\"my_status\"][0])"
   ]
  },
  {
   "cell_type": "code",
   "execution_count": 13,
   "metadata": {},
   "outputs": [
    {
     "name": "stderr",
     "output_type": "stream",
     "text": [
      "/Users/chunhsiangchang/anaconda2/envs/Python3/lib/python3.6/site-packages/scipy/stats/stats.py:1713: FutureWarning: Using a non-tuple sequence for multidimensional indexing is deprecated; use `arr[tuple(seq)]` instead of `arr[seq]`. In the future this will be interpreted as an array index, `arr[np.array(seq)]`, which will result either in an error or a different result.\n",
      "  return np.add.reduce(sorted[indexer] * weights, axis=axis) / sumval\n"
     ]
    },
    {
     "data": {
      "image/png": "[encoded data removed]",
      "text/plain": [
       "<Figure size 432x288 with 1 Axes>"
      ]
     },
     "metadata": {
      "needs_background": "light"
     },
     "output_type": "display_data"
    }
   ],
   "source": [
    "pp = sns.kdeplot(ratings[ratings[\"my_status\"] == 2][\"my_score\"], shade = True, label = \"completed\")\n",
    "pp = sns.kdeplot(ratings[ratings[\"my_status\"] == 6][\"my_score\"], shade = True, label = \"plan to watch\")\n",
    "pp = sns.kdeplot(ratings[ratings[\"my_status\"] == 1][\"my_score\"], shade = True, label = \"watching\")"
   ]
  },
  {
   "cell_type": "code",
   "execution_count": 14,
   "metadata": {},
   "outputs": [
    {
     "name": "stderr",
     "output_type": "stream",
     "text": [
      "/Users/chunhsiangchang/anaconda2/envs/Python3/lib/python3.6/site-packages/scipy/stats/stats.py:1713: FutureWarning: Using a non-tuple sequence for multidimensional indexing is deprecated; use `arr[tuple(seq)]` instead of `arr[seq]`. In the future this will be interpreted as an array index, `arr[np.array(seq)]`, which will result either in an error or a different result.\n",
      "  return np.add.reduce(sorted[indexer] * weights, axis=axis) / sumval\n"
     ]
    },
    {
     "data": {
      "image/png": "[encoded data removed]",
      "text/plain": [
       "<Figure size 432x288 with 1 Axes>"
      ]
     },
     "metadata": {
      "needs_background": "light"
     },
     "output_type": "display_data"
    }
   ],
   "source": [
    "pp = sns.kdeplot(ratings[ratings[\"my_status\"] == 4][\"my_score\"], shade = True, label = \"dropped\")\n",
    "pp = sns.kdeplot(ratings[ratings[\"my_status\"] == 3][\"my_score\"], shade = True, label = \"on hold\")"
   ]
  },
  {
   "cell_type": "markdown",
   "metadata": {},
   "source": [
    "### Users\n",
    "how many ratings did they give"
   ]
  },
  {
   "cell_type": "code",
   "execution_count": 15,
   "metadata": {
    "collapsed": true
   },
   "outputs": [
    {
     "data": {
      "text/plain": [
       "Exxorn             6536\n",
       "uemmega            6367\n",
       "JakCooper2         5923\n",
       "DeadlyKizuna       5912\n",
       "KanaenuYume        5234\n",
       "NightTerror        5151\n",
       "DesireDestiny      5062\n",
       "Cafer              4777\n",
       "Dragonflyk         4632\n",
       "Virali             4524\n",
       "canc               4520\n",
       "AngelShiva         4450\n",
       "giannis85          4438\n",
       "bobodobo89         4404\n",
       "link9us            4403\n",
       "coty9090           4221\n",
       "Fire-Dragon        4204\n",
       "Shioxus            4152\n",
       "chaos63            4130\n",
       "Darkvoid           3976\n",
       "LastPrinny         3889\n",
       "Boogy444           3885\n",
       "Yvonnelim99        3806\n",
       "greatvillage       3797\n",
       "_thiagobrisolla    3793\n",
       "EZSPECIAL          3741\n",
       "aya_lita           3703\n",
       "dumnorix98         3655\n",
       "axios1331          3635\n",
       "DarAR92            3611\n",
       "                   ... \n",
       "Cinko2                1\n",
       "rajlokkhi             1\n",
       "adityacmx             1\n",
       "empew2                1\n",
       "taijinru              1\n",
       "shainaley0524         1\n",
       "jssbarbie9            1\n",
       "OnemissingtwO         1\n",
       "Leeah-Murphy          1\n",
       "serena77980           1\n",
       "cham                  1\n",
       "foodlove              1\n",
       "gameboy6717           1\n",
       "AnimePlanet           1\n",
       "Mussab86              1\n",
       "carlmike2007          1\n",
       "lobomon               1\n",
       "Tsukiakai             1\n",
       "walruslover1209       1\n",
       "vittey                1\n",
       "acha333               1\n",
       "Eddie_Caerus          1\n",
       "thekirukichan         1\n",
       "Animeiii              1\n",
       "honey_sweet_mon       1\n",
       "neekochu              1\n",
       "robst                 1\n",
       "lovekosigaara         1\n",
       "khrluver              1\n",
       "Kyu_Arashibara        1\n",
       "Name: username, Length: 108709, dtype: int64"
      ]
     },
     "execution_count": 15,
     "metadata": {},
     "output_type": "execute_result"
    }
   ],
   "source": [
    "ratings[\"username\"].value_counts()[:10]"
   ]
  },
  {
   "cell_type": "code",
   "execution_count": 17,
   "metadata": {},
   "outputs": [
    {
     "data": {
      "text/plain": [
       "287.7755015684074"
      ]
     },
     "execution_count": 17,
     "metadata": {},
     "output_type": "execute_result"
    }
   ],
   "source": [
    "np.mean(ratings[\"username\"].value_counts())"
   ]
  },
  {
   "cell_type": "code",
   "execution_count": 32,
   "metadata": {
    "scrolled": false
   },
   "outputs": [
    {
     "data": {
      "text/plain": [
       "<matplotlib.axes._subplots.AxesSubplot at 0x1a1f5ebe10>"
      ]
     },
     "execution_count": 32,
     "metadata": {},
     "output_type": "execute_result"
    },
    {
     "data": {
      "image/png": "[encoded data removed]",
      "text/plain": [
       "<Figure size 432x288 with 1 Axes>"
      ]
     },
     "metadata": {
      "needs_background": "light"
     },
     "output_type": "display_data"
    }
   ],
   "source": [
    "user_rate_times = pd.Series(ratings[\"username\"].value_counts())\n",
    "user_rate_times.reset_index(drop = True).plot()"
   ]
  },
  {
   "cell_type": "code",
   "execution_count": 51,
   "metadata": {},
   "outputs": [],
   "source": [
    "First_10000 = user_rate_times[0:10000]\n",
    "Next_20000 = user_rate_times[10000: 30000 ]\n",
    "Rest = user_rate_times[30000: ]"
   ]
  },
  {
   "cell_type": "code",
   "execution_count": 50,
   "metadata": {},
   "outputs": [
    {
     "data": {
      "text/plain": [
       "Index(['Exxorn'], dtype='object')"
      ]
     },
     "execution_count": 50,
     "metadata": {},
     "output_type": "execute_result"
    }
   ],
   "source": [
    "First_1000.index[:1]"
   ]
  },
  {
   "cell_type": "code",
   "execution_count": 56,
   "metadata": {},
   "outputs": [
    {
     "name": "stdout",
     "output_type": "stream",
     "text": [
      "Number of ratings by First 10000 raters 10273855\n",
      "Number of ratings by Second 20000 raters 9684883\n",
      "Number of ratings by Rest raters 11325049\n"
     ]
    }
   ],
   "source": [
    "print(\"Number of ratings by First 10000 raters\" ,len(ratings[ratings[\"username\"].isin(First_10000.index)][\"my_score\"]))\n",
    "print(\"Number of ratings by Second 20000 raters\" ,len(ratings[ratings[\"username\"].isin(Next_20000.index)]))\n",
    "print(\"Number of ratings by Rest raters\" ,len(ratings[ratings[\"username\"].isin(Rest.index)]))"
   ]
  },
  {
   "cell_type": "code",
   "execution_count": 52,
   "metadata": {
    "scrolled": true
   },
   "outputs": [
    {
     "name": "stderr",
     "output_type": "stream",
     "text": [
      "/Users/chunhsiangchang/anaconda2/envs/Python3/lib/python3.6/site-packages/scipy/stats/stats.py:1713: FutureWarning: Using a non-tuple sequence for multidimensional indexing is deprecated; use `arr[tuple(seq)]` instead of `arr[seq]`. In the future this will be interpreted as an array index, `arr[np.array(seq)]`, which will result either in an error or a different result.\n",
      "  return np.add.reduce(sorted[indexer] * weights, axis=axis) / sumval\n"
     ]
    },
    {
     "data": {
      "image/png": "[encoded data removed]",
      "text/plain": [
       "<Figure size 432x288 with 1 Axes>"
      ]
     },
     "metadata": {
      "needs_background": "light"
     },
     "output_type": "display_data"
    }
   ],
   "source": [
    "pp = sns.kdeplot(ratings[ratings[\"username\"].isin(First_10000.index)][\"my_score\"], shade = True, label = \"First 10000\")\n",
    "pp = sns.kdeplot(ratings[ratings[\"username\"].isin(Next_20000.index)][\"my_score\"], shade = True, label = \"Next 20000\")\n",
    "pp = sns.kdeplot(ratings[ratings[\"username\"].isin(Rest.index)][\"my_score\"], shade = True, label = \"rest\")"
   ]
  },
  {
   "cell_type": "markdown",
   "metadata": {},
   "source": [
    "Users that rate a lot tend to give lower scores"
   ]
  },
  {
   "cell_type": "code",
   "execution_count": null,
   "metadata": {},
   "outputs": [],
   "source": []
  },
  {
   "cell_type": "markdown",
   "metadata": {},
   "source": [
    "### Anime\n",
    "How many ratings did each anime received"
   ]
  },
  {
   "cell_type": "code",
   "execution_count": 18,
   "metadata": {
    "collapsed": true
   },
   "outputs": [
    {
     "data": {
      "text/plain": [
       "1535     81332\n",
       "1575     67721\n",
       "226      64486\n",
       "5114     63649\n",
       "4224     63278\n",
       "20       63231\n",
       "11757    62508\n",
       "16498    62328\n",
       "6547     61961\n",
       "269      60787\n",
       "2167     59752\n",
       "121      58202\n",
       "849      56787\n",
       "9253     56664\n",
       "3588     56465\n",
       "6746     56067\n",
       "2001     55733\n",
       "2904     55592\n",
       "199      54320\n",
       "5081     54097\n",
       "10620    54063\n",
       "8074     52985\n",
       "1735     51139\n",
       "6702     50687\n",
       "9919     50509\n",
       "30       49886\n",
       "11111    48995\n",
       "2025     48966\n",
       "1        48607\n",
       "5680     47743\n",
       "         ...  \n",
       "33480        4\n",
       "33916        4\n",
       "33913        4\n",
       "36349        4\n",
       "34831        4\n",
       "37802        3\n",
       "35350        3\n",
       "36551        3\n",
       "36315        3\n",
       "37180        3\n",
       "36581        3\n",
       "34037        3\n",
       "33945        3\n",
       "37018        3\n",
       "35229        3\n",
       "36550        3\n",
       "37888        2\n",
       "36233        2\n",
       "37895        2\n",
       "37896        2\n",
       "33753        2\n",
       "33484        2\n",
       "37255        2\n",
       "34187        2\n",
       "34201        2\n",
       "36748        2\n",
       "37620        2\n",
       "37493        1\n",
       "36818        1\n",
       "37494        1\n",
       "Name: anime_id, Length: 6668, dtype: int64"
      ]
     },
     "execution_count": 18,
     "metadata": {},
     "output_type": "execute_result"
    }
   ],
   "source": [
    "ratings[\"anime_id\"].value_counts()[:10]"
   ]
  },
  {
   "cell_type": "code",
   "execution_count": 57,
   "metadata": {
    "scrolled": false
   },
   "outputs": [
    {
     "data": {
      "text/plain": [
       "<matplotlib.axes._subplots.AxesSubplot at 0x1a2048b6d8>"
      ]
     },
     "execution_count": 57,
     "metadata": {},
     "output_type": "execute_result"
    },
    {
     "data": {
      "image/png": "[encoded data removed]",
      "text/plain": [
       "<Figure size 432x288 with 1 Axes>"
      ]
     },
     "metadata": {
      "needs_background": "light"
     },
     "output_type": "display_data"
    }
   ],
   "source": [
    "anime_rated_times = pd.Series(ratings[\"anime_id\"].value_counts())\n",
    "anime_rated_times.reset_index(drop = True).plot()\n",
    "\n",
    "#pd.Series(ratings[\"anime_id\"].value_counts().values).plot()"
   ]
  },
  {
   "cell_type": "code",
   "execution_count": null,
   "metadata": {},
   "outputs": [],
   "source": []
  },
  {
   "cell_type": "code",
   "execution_count": 58,
   "metadata": {},
   "outputs": [],
   "source": [
    "First_1000_anime = anime_rated_times[0:1000]\n",
    "Next_2000_anime = anime_rated_times[1000: 3000 ]\n",
    "Rest_anime = anime_rated_times[3000: ]"
   ]
  },
  {
   "cell_type": "code",
   "execution_count": 60,
   "metadata": {},
   "outputs": [
    {
     "name": "stdout",
     "output_type": "stream",
     "text": [
      "Number of ratings by First 1000 anime 19571512\n",
      "Number of ratings by Second 2000 anime 9482375\n",
      "Number of ratings by Rest anime 2230143\n"
     ]
    }
   ],
   "source": [
    "print(\"Number of ratings by First 1000 anime\" ,len(ratings[ratings[\"anime_id\"].isin(First_1000_anime.index)]))\n",
    "print(\"Number of ratings by Second 2000 anime\" ,len(ratings[ratings[\"anime_id\"].isin(Next_2000_anime.index)]))\n",
    "print(\"Number of ratings by Rest anime\" ,len(ratings[ratings[\"anime_id\"].isin(Rest_anime.index)]))"
   ]
  },
  {
   "cell_type": "code",
   "execution_count": 61,
   "metadata": {
    "scrolled": false
   },
   "outputs": [
    {
     "name": "stderr",
     "output_type": "stream",
     "text": [
      "/Users/chunhsiangchang/anaconda2/envs/Python3/lib/python3.6/site-packages/scipy/stats/stats.py:1713: FutureWarning: Using a non-tuple sequence for multidimensional indexing is deprecated; use `arr[tuple(seq)]` instead of `arr[seq]`. In the future this will be interpreted as an array index, `arr[np.array(seq)]`, which will result either in an error or a different result.\n",
      "  return np.add.reduce(sorted[indexer] * weights, axis=axis) / sumval\n"
     ]
    },
    {
     "data": {
      "image/png": "[encoded data removed]",
      "text/plain": [
       "<Figure size 432x288 with 1 Axes>"
      ]
     },
     "metadata": {
      "needs_background": "light"
     },
     "output_type": "display_data"
    }
   ],
   "source": [
    "pp = sns.kdeplot(ratings[ratings[\"anime_id\"].isin(First_1000_anime.index)][\"my_score\"], shade = True, label = \"First 10000\")\n",
    "pp = sns.kdeplot(ratings[ratings[\"anime_id\"].isin(Next_2000_anime.index)][\"my_score\"], shade = True, label = \"Next 20000\")\n",
    "pp = sns.kdeplot(ratings[ratings[\"anime_id\"].isin(Rest_anime.index)][\"my_score\"], shade = True, label = \"rest\")"
   ]
  },
  {
   "cell_type": "markdown",
   "metadata": {},
   "source": [
    "Movices watched more common are rated higher"
   ]
  },
  {
   "cell_type": "code",
   "execution_count": null,
   "metadata": {},
   "outputs": [],
   "source": []
  },
  {
   "cell_type": "markdown",
   "metadata": {},
   "source": [
    "### How many rewatches are there?"
   ]
  },
  {
   "cell_type": "code",
   "execution_count": 21,
   "metadata": {},
   "outputs": [
    {
     "name": "stdout",
     "output_type": "stream",
     "text": [
      "19288 rewatches over 24405783\n",
      "0.07903044946355542 percent\n"
     ]
    }
   ],
   "source": [
    "re_watch = ratings[\"my_rewatching\"].dropna()\n",
    "print(len(re_watch[re_watch == 1]), \"rewatches over\", len(re_watch))\n",
    "print( 100 * len(re_watch[re_watch == 1])/len(re_watch), \"percent\" )"
   ]
  },
  {
   "cell_type": "code",
   "execution_count": null,
   "metadata": {},
   "outputs": [],
   "source": []
  },
  {
   "cell_type": "code",
   "execution_count": null,
   "metadata": {},
   "outputs": [],
   "source": []
  },
  {
   "cell_type": "markdown",
   "metadata": {},
   "source": [
    "### Does rewatches correlate to scores?"
   ]
  },
  {
   "cell_type": "code",
   "execution_count": 22,
   "metadata": {},
   "outputs": [],
   "source": [
    "re_watch_ep = ratings[\"my_rewatching_ep\"].dropna()"
   ]
  },
  {
   "cell_type": "code",
   "execution_count": 23,
   "metadata": {},
   "outputs": [
    {
     "data": {
      "text/plain": [
       "31283674"
      ]
     },
     "execution_count": 23,
     "metadata": {},
     "output_type": "execute_result"
    }
   ],
   "source": [
    "len(re_watch_ep[re_watch_ep < 50])"
   ]
  },
  {
   "cell_type": "code",
   "execution_count": 24,
   "metadata": {},
   "outputs": [],
   "source": [
    "used_id = re_watch_ep[re_watch_ep < 50].index"
   ]
  },
  {
   "cell_type": "code",
   "execution_count": 25,
   "metadata": {
    "scrolled": false
   },
   "outputs": [
    {
     "data": {
      "text/plain": [
       "array([[1.        , 0.00905126],\n",
       "       [0.00905126, 1.        ]])"
      ]
     },
     "execution_count": 25,
     "metadata": {},
     "output_type": "execute_result"
    }
   ],
   "source": [
    "np.corrcoef(ratings[\"my_rewatching_ep\"].iloc[used_id], ratings[\"my_score\"][used_id] )"
   ]
  },
  {
   "cell_type": "code",
   "execution_count": null,
   "metadata": {},
   "outputs": [],
   "source": []
  },
  {
   "cell_type": "markdown",
   "metadata": {},
   "source": [
    "### Explote Tagging percent"
   ]
  },
  {
   "cell_type": "code",
   "execution_count": 26,
   "metadata": {},
   "outputs": [
    {
     "name": "stdout",
     "output_type": "stream",
     "text": [
      "There are 1993717 of tags over 31284030 ratings\n",
      "6.372954507459557 percent\n"
     ]
    }
   ],
   "source": [
    "print(\"There are\",len(ratings[\"my_tags\"].dropna()), \"of tags over\", len(ratings), \"ratings\")\n",
    "print(100 * len(ratings[\"my_tags\"].dropna())/len(ratings), \"percent\" )"
   ]
  }
 ],
 "metadata": {
  "kernelspec": {
   "display_name": "Python 3",
   "language": "python",
   "name": "python3"
  },
  "language_info": {
   "codemirror_mode": {
    "name": "ipython",
    "version": 3
   },
   "file_extension": ".py",
   "mimetype": "text/x-python",
   "name": "python",
   "nbconvert_exporter": "python",
   "pygments_lexer": "ipython3",
   "version": "3.6.6"
  }
 },
 "nbformat": 4,
 "nbformat_minor": 2
}
